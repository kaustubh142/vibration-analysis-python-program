{
 "cells": [
  {
   "cell_type": "code",
   "execution_count": 1,
   "metadata": {},
   "outputs": [],
   "source": [
    "import sympy as sym\n",
    "import numpy as np\n",
    "sym.init_printing() \n",
    "import scipy as sp\n",
    "import matplotlib as mpl\n",
    "\n",
    "import matplotlib.pyplot as plt\n",
    "\n"
   ]
  },
  {
   "cell_type": "code",
   "execution_count": 112,
   "metadata": {},
   "outputs": [],
   "source": [
    "mpl.style.use('classic')\n",
    "\n",
    "plt.rc('figure', figsize = (6, 4.5)) \n",
    "plt.rc('axes', labelsize=16, titlesize=14)\n",
    "plt.rc('figure', autolayout = True)\n",
    "t = sym.symbols('t')\n",
    "f, g = sym.symbols('f g', cls=sym.Function)\n",
    "k = 0.5\n",
    "m = 40\n",
    "l = 100\n",
    "g = 10\n",
    "\n",
    "\n"
   ]
  },
  {
   "cell_type": "code",
   "execution_count": 113,
   "metadata": {},
   "outputs": [
    {
     "name": "stdout",
     "output_type": "stream",
     "text": [
      "Eq(-10000.0*f(t) + 133333.333333333*Derivative(f(t), (t, 2)), 0)\n"
     ]
    }
   ],
   "source": [
    "diffeq = sym.Eq(((m*l**2)/3)*f(t).diff(t,t)+2*k*l**2*f(t)-((m*g*l)/2)*f(t),0)\n",
    "print(diffeq)\n",
    "\n"
   ]
  },
  {
   "cell_type": "code",
   "execution_count": 114,
   "metadata": {},
   "outputs": [
    {
     "name": "stdout",
     "output_type": "stream",
     "text": [
      "Eq(f(t), C1*exp(-0.273861278752583*t) + C2*exp(0.273861278752583*t))\n"
     ]
    }
   ],
   "source": [
    "soln = sym.dsolve(diffeq,f(t))\n",
    "print(soln)\n",
    "\n"
   ]
  },
  {
   "cell_type": "code",
   "execution_count": 115,
   "metadata": {},
   "outputs": [
    {
     "name": "stdout",
     "output_type": "stream",
     "text": [
      "Eq(f(t), 12.1287092917528*exp(0.273861278752583*t) - 6.12870929175277*exp(-0.273861278752583*t))\n"
     ]
    }
   ],
   "source": [
    "constants = sym.solve([soln.rhs.subs(t,0) - 6, soln.rhs.diff(t,1).subs(t,0)- 5])\n",
    "constants\n",
    "C1, C2 = sym.symbols('C1,C2')\n",
    "soln = soln.subs(constants)\n",
    "print(soln)\n",
    "func = sym.lambdify(t,soln.rhs,'numpy')"
   ]
  },
  {
   "cell_type": "code",
   "execution_count": 116,
   "metadata": {},
   "outputs": [
    {
     "data": {
      "image/png": "[encoded data removed]",
      "text/plain": [
       "<Figure size 480x360 with 1 Axes>"
      ]
     },
     "metadata": {},
     "output_type": "display_data"
    }
   ],
   "source": [
    "tt = np.arange(0,100,1) \n",
    "y = func(tt)\n",
    "plt.figure(1)\n",
    "plt.plot(tt,y);\n",
    "plt.show()"
   ]
  },
  {
   "cell_type": "code",
   "execution_count": null,
   "metadata": {},
   "outputs": [],
   "source": []
  },
  {
   "cell_type": "code",
   "execution_count": null,
   "metadata": {},
   "outputs": [],
   "source": []
  }
 ],
 "metadata": {
  "kernelspec": {
   "display_name": "Python 3",
   "language": "python",
   "name": "python3"
  },
  "language_info": {
   "codemirror_mode": {
    "name": "ipython",
    "version": 3
   },
   "file_extension": ".py",
   "mimetype": "text/x-python",
   "name": "python",
   "nbconvert_exporter": "python",
   "pygments_lexer": "ipython3",
   "version": "3.7.6"
  }
 },
 "nbformat": 4,
 "nbformat_minor": 4
}
